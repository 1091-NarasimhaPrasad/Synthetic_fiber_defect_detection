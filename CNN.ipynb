{
  "nbformat": 4,
  "nbformat_minor": 0,
  "metadata": {
    "colab": {
      "provenance": []
    },
    "kernelspec": {
      "name": "python3",
      "display_name": "Python 3"
    },
    "language_info": {
      "name": "python"
    }
  },
  "cells": [
    {
      "cell_type": "code",
      "source": [
        "import os\n",
        "import cv2\n",
        "import numpy as np\n",
        "import pandas as pd\n",
        "import shutil\n",
        "import tensorflow as tf\n",
        "import tensorflow_hub as hub\n",
        "\n",
        "from sklearn.model_selection import train_test_split\n",
        "from tensorflow import keras\n",
        "from keras.preprocessing.image import ImageDataGenerator\n",
        "from sklearn.metrics import classification_report\n",
        "import matplotlib.pyplot as plt\n",
        "from imblearn.over_sampling import SMOTE\n",
        "from sklearn.utils import shuffle\n",
        "\n",
        "from tensorflow.keras.applications import ResNet50\n",
        "from tensorflow.keras.models import Model\n",
        "from tensorflow.keras.layers import GlobalAveragePooling2D, Dense, Dropout"
      ],
      "metadata": {
        "id": "dnVNjU-vGqKE"
      },
      "execution_count": null,
      "outputs": []
    },
    {
      "cell_type": "code",
      "source": [],
      "metadata": {
        "id": "lBq2bT3ZYTpY"
      },
      "execution_count": null,
      "outputs": []
    },
    {
      "cell_type": "code",
      "source": [
        "import os\n",
        "import shutil\n",
        "\n",
        "def split_dataset(source_folder, output_root_folder):\n",
        "    # Create output folders if they don't exist\n",
        "    target_defect_folder = os.path.join(output_root_folder, \"Defect_images\")\n",
        "    target_no_defect_folder = os.path.join(output_root_folder, \"NODefect_images\")\n",
        "    os.makedirs(target_defect_folder, exist_ok=True)\n",
        "    os.makedirs(target_no_defect_folder, exist_ok=True)\n",
        "\n",
        "    # Split defect images\n",
        "    defect_images_folder = os.path.join(source_folder, \"Defect_images\")\n",
        "\n",
        "    # Copy defect images\n",
        "    for file_name in os.listdir(defect_images_folder):\n",
        "        source_path = os.path.join(defect_images_folder, file_name)\n",
        "        target_path = os.path.join(target_defect_folder, file_name)\n",
        "        shutil.copy2(source_path, target_path)\n",
        "\n",
        "    # Copy non-defect images\n",
        "    no_defect_images_folder = os.path.join(source_folder, \"NODefect_images\")\n",
        "    for subfolder_name in os.listdir(no_defect_images_folder):\n",
        "        subfolder_path = os.path.join(no_defect_images_folder, subfolder_name)\n",
        "        if os.path.isdir(subfolder_path):\n",
        "            for file_name in os.listdir(subfolder_path):\n",
        "                source_path = os.path.join(subfolder_path, file_name)\n",
        "                target_path = os.path.join(target_no_defect_folder, file_name)\n",
        "                shutil.copy2(source_path, target_path)\n",
        "\n",
        "# Specify the source folder and the output root directory\n",
        "dataset_folder = \"/content/drive/MyDrive/Defect_images\" # Ad the sourcejust folder this and to the your output dataset root folder path directory\n",
        "\n",
        "outputdataset__rootfolder_ =folder \"/content/drive/MyDrive/project output\"/agkgleag/gle/inputworking//\"a ite# Adxjust- thisfab toric your desired- outputimage- location\n",
        "database\n",
        "\"#  Call# the Ad splitjust_ thisdataset to function your\n",
        " datasetsplit folder_dataset path(dataset_folder, output_\n",
        "output_root_folderroot =_ \"/folderk)ag\n",
        "gle```/\n",
        "working\n",
        "/\"Please  note# that the source folder and Adjust you should have the output this root the necessary directory\n",
        " permissions todataset access_ andfolder modify = \"/ to the specified yourkag desired output directories.gle/ Also locationinput/,\n",
        "\n",
        " ensure that the# Call directories the youa split_ specifyitex actually existdataset-fab function in yourric-\n",
        "split system.</image-_sdatabase\"dataset(>\n",
        " #dataset_\n",
        " AdjustRememberfolder, this to adjust output to your dataset_ the `root folderdataset__folder path\n",
        "folder)output_` and `"
      ],
      "metadata": {
        "colab": {
          "base_uri": "https://localhost:8080/",
          "height": 158
        },
        "id": "hrYl4pgEKjH6",
        "outputId": "894c5f08-f306-4e9b-af37-17b4771e1956"
      },
      "execution_count": null,
      "outputs": [
        {
          "output_type": "error",
          "ename": "SyntaxError",
          "evalue": "ignored",
          "traceback": [
            "\u001b[0;36m  File \u001b[0;32m\"<ipython-input-7-a86b7b5719a0>\"\u001b[0;36m, line \u001b[0;32m33\u001b[0m\n\u001b[0;31m    outputdataset__rootfolder_ =folder \"/content/drive/MyDrive/project output\"/agkgleag/gle/inputworking//\"a ite# Adxjust- thisfab toric your desired- outputimage- location\u001b[0m\n\u001b[0m                                                                                                          ^\u001b[0m\n\u001b[0;31mSyntaxError\u001b[0m\u001b[0;31m:\u001b[0m unterminated string literal (detected at line 33)\n"
          ]
        }
      ]
    },
    {
      "cell_type": "code",
      "source": [
        "\n",
        "import tensorflow as tf\n",
        "from tensorflow.keras import datasets, layers, models\n",
        "import matplotlib.pyplot as plt\n",
        "\n",
        "# Load the dataset\n",
        "(train_images, train_labels), (test_images, test_labels) = datasets.cifar10.load_data()\n",
        "\n",
        "# Normalize pixel values to be between 0 and 1\n",
        "train_images, test_images = train_images / 255.0, test_images / 255.0\n",
        "\n",
        "# Define the model architecture\n",
        "model = models.Sequential()\n",
        "model.add(layers.Conv2D(32, (3, 3), activation='relu', input_shape=(32, 32, 3)))\n",
        "model.add(layers.MaxPooling2D((2, 2)))\n",
        "model.add(layers.Conv2D(64, (3, 3), activation='relu'))\n",
        "model.add(layers.MaxPooling2D((2, 2)))\n",
        "model.add(layers.Conv2D(64, (3, 3), activation='relu'))\n",
        "\n",
        "model.add(layers.Flatten())\n",
        "model.add(layers.Dense(64, activation='relu'))\n",
        "model.add(layers.Dense(10))\n",
        "\n",
        "# Compile the model\n",
        "model.compile(optimizer='adam',\n",
        "              loss=tf.keras.losses.SparseCategoricalCrossentropy(from_logits=True),\n",
        "              metrics=['accuracy'])\n",
        "\n",
        "# Train the model\n",
        "history = model.fit(train_images, train_labels, epochs=10,\n",
        "                    validation_data=(test_images, test_labels))\n",
        "\n",
        "# Evaluate the model\n",
        "test_loss, test_acc = model.evaluate(test_images, test_labels, verbose=2)\n",
        "print('\\nTest accuracy:', test_acc)\n",
        "\n",
        "# Save the model\n",
        "model.save('image_classification_model.h5')\n"
      ],
      "metadata": {
        "colab": {
          "base_uri": "https://localhost:8080/"
        },
        "id": "tKuEMQMZYVJe",
        "outputId": "e0c7046e-4d4f-448f-d3f2-bdb88240aa82"
      },
      "execution_count": null,
      "outputs": [
        {
          "output_type": "stream",
          "name": "stdout",
          "text": [
            "Downloading data from https://www.cs.toronto.edu/~kriz/cifar-10-python.tar.gz\n",
            "170498071/170498071 [==============================] - 2s 0us/step\n",
            "Epoch 1/10\n",
            "1563/1563 [==============================] - 82s 51ms/step - loss: 1.5112 - accuracy: 0.4480 - val_loss: 1.2494 - val_accuracy: 0.5447\n",
            "Epoch 2/10\n",
            "1563/1563 [==============================] - 82s 52ms/step - loss: 1.1582 - accuracy: 0.5887 - val_loss: 1.0536 - val_accuracy: 0.6244\n",
            "Epoch 3/10\n",
            "1563/1563 [==============================] - 78s 50ms/step - loss: 1.0167 - accuracy: 0.6419 - val_loss: 0.9733 - val_accuracy: 0.6521\n",
            "Epoch 4/10\n",
            "1563/1563 [==============================] - 80s 51ms/step - loss: 0.9247 - accuracy: 0.6746 - val_loss: 0.9216 - val_accuracy: 0.6736\n",
            "Epoch 5/10\n",
            "1563/1563 [==============================] - 79s 50ms/step - loss: 0.8561 - accuracy: 0.7008 - val_loss: 0.9929 - val_accuracy: 0.6493\n",
            "Epoch 6/10\n",
            "1563/1563 [==============================] - 79s 51ms/step - loss: 0.7966 - accuracy: 0.7207 - val_loss: 0.8768 - val_accuracy: 0.6946\n",
            "Epoch 7/10\n",
            "1563/1563 [==============================] - 77s 49ms/step - loss: 0.7481 - accuracy: 0.7376 - val_loss: 0.9056 - val_accuracy: 0.6884\n",
            "Epoch 8/10\n",
            "1563/1563 [==============================] - 79s 51ms/step - loss: 0.7032 - accuracy: 0.7521 - val_loss: 0.8858 - val_accuracy: 0.7028\n",
            "Epoch 9/10\n",
            "1563/1563 [==============================] - 77s 49ms/step - loss: 0.6644 - accuracy: 0.7678 - val_loss: 0.8241 - val_accuracy: 0.7188\n",
            "Epoch 10/10\n",
            "1563/1563 [==============================] - 78s 50ms/step - loss: 0.6229 - accuracy: 0.7809 - val_loss: 0.8857 - val_accuracy: 0.7044\n",
            "313/313 - 4s - loss: 0.8857 - accuracy: 0.7044 - 4s/epoch - 11ms/step\n",
            "\n",
            "Test accuracy: 0.7044000029563904\n"
          ]
        },
        {
          "output_type": "stream",
          "name": "stderr",
          "text": [
            "/usr/local/lib/python3.10/dist-packages/keras/src/engine/training.py:3079: UserWarning: You are saving your model as an HDF5 file via `model.save()`. This file format is considered legacy. We recommend using instead the native Keras format, e.g. `model.save('my_model.keras')`.\n",
            "  saving_api.save_model(\n"
          ]
        }
      ]
    }
  ]
}